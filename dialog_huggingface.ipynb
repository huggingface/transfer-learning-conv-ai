{
 "cells": [
  {
   "cell_type": "markdown",
   "metadata": {},
   "source": [
    "# Training a dialog model using HuggingFace's pytorch-transformers and the ConvAI Dataset \n",
    "\n",
    "### Incorporating migration notes from pytorch_pretrained_bert -> pytorch_transformers\n",
    "Updating the implementations in: https://medium.com/huggingface/how-to-build-a-state-of-the-art-conversational-ai-with-transfer-learning-2d818ac26313"
   ]
  },
  {
   "cell_type": "markdown",
   "metadata": {},
   "source": [
    "## Basic Setup Overview"
   ]
  },
  {
   "cell_type": "code",
   "execution_count": 1,
   "metadata": {},
   "outputs": [
    {
     "data": {
      "text/plain": [
       "'\\nrequirements.txt: \\ntorch\\npytorch-ignite\\n#pytorch-pretrained-bert >= 0.6.2 -> replaced with pytorch-transformers\\npytorch-transformers\\ntensorboardX\\ntensorflow  # for tensorboardX\\n'"
      ]
     },
     "execution_count": 1,
     "metadata": {},
     "output_type": "execute_result"
    }
   ],
   "source": [
    "'''\n",
    "requirements.txt: \n",
    "torch\n",
    "pytorch-ignite\n",
    "#pytorch-pretrained-bert >= 0.6.2 -> replaced with pytorch-transformers\n",
    "pytorch-transformers\n",
    "tensorboardX\n",
    "tensorflow  # for tensorboardX\n",
    "'''"
   ]
  },
  {
   "cell_type": "code",
   "execution_count": 3,
   "metadata": {},
   "outputs": [
    {
     "name": "stderr",
     "output_type": "stream",
     "text": [
      "ftfy or spacy is not installed using BERT BasicTokenizer instead of SpaCy & ftfy.\n"
     ]
    }
   ],
   "source": [
    "from pytorch_transformers import OpenAIGPTDoubleHeadsModel, OpenAIGPTTokenizer\n",
    "\n",
    "model = OpenAIGPTDoubleHeadsModel.from_pretrained('openai-gpt')\n",
    "tokenizer = OpenAIGPTTokenizer.from_pretrained('openai-gpt')"
   ]
  },
  {
   "cell_type": "code",
   "execution_count": 4,
   "metadata": {},
   "outputs": [
    {
     "name": "stdout",
     "output_type": "stream",
     "text": [
      "Number of added tokens:  5\n"
     ]
    },
    {
     "data": {
      "text/plain": [
       "Embedding(40483, 768)"
      ]
     },
     "execution_count": 4,
     "metadata": {},
     "output_type": "execute_result"
    }
   ],
   "source": [
    "# We will use 5 special tokens:\n",
    "# - <bos> to indicate the start of the sequence\n",
    "# - <eos> to indicate the end of the sequence\n",
    "# - <speaker1> to indicate the beginning and the tokens of an utterance from the user\n",
    "# - <speaker2> to indicate the beginning and the tokens of an utterance from the bot\n",
    "# - <pad> as a padding token to build batches of sequences\n",
    "SPECIAL_TOKENS = {\"bos_token\": \"<bos>\", \n",
    "                  \"eos_token\": \"<eos>\",\n",
    "                  \"speaker1_token\": \"<speaker1>\", \n",
    "                  \"speaker2_token\": \"<speaker2>\",\n",
    "                  \"pad_token\": \"<pad>\"}\n",
    "\n",
    "# We can add these special tokens to the vocabulary and the embeddings of the model:\n",
    "num_added_token = tokenizer.add_special_tokens(SPECIAL_TOKENS)\n",
    "print(\"Number of added tokens: \", num_added_token)\n",
    "model.resize_token_embeddings(len(tokenizer))"
   ]
  },
  {
   "cell_type": "code",
   "execution_count": 5,
   "metadata": {},
   "outputs": [
    {
     "name": "stdout",
     "output_type": "stream",
     "text": [
      "['<pad>', '<bos>', '<eos>', '<unk>']\n"
     ]
    },
    {
     "data": {
      "text/plain": [
       "'<speaker1>'"
      ]
     },
     "execution_count": 5,
     "metadata": {},
     "output_type": "execute_result"
    }
   ],
   "source": [
    "print(tokenizer.all_special_tokens)\n",
    "tokenizer.speaker1_token"
   ]
  },
  {
   "cell_type": "code",
   "execution_count": 75,
   "metadata": {},
   "outputs": [],
   "source": [
    "from itertools import chain\n",
    "\n",
    "# Let's define our contexts and special tokens\n",
    "persona = [[\"i\", \"like\", \"playing\", \"football\", \".\"],\n",
    "           [\"i\", \"am\", \"from\", \"NYC\", \".\"]]\n",
    "history = [[\"hello\", \"how\", \"are\", \"you\", \"?\"],\n",
    "           [\"i\", \"am\", \"fine\", \"thanks\", \".\"]]\n",
    "reply = [\"great\", \"to\", \"hear\"]\n",
    "bos, eos, speaker1, speaker2 = \"<bos>\", \"<eos>\", \"<speaker1>\", \"<speaker2>\"\n",
    "\n",
    "def build_inputs(persona, history, reply):\n",
    "    # Build our sequence by adding delimiters and concatenating\n",
    "    sequence = [[bos] + list(chain(*persona))] + history + [reply + [eos]]\n",
    "    sequence = [sequence[0]] + [ [speaker2 if (len(sequence)-i) % 2 else speaker1] + s\n",
    "                                for i, s in enumerate(sequence[1:])]\n",
    "    # Build our word, segments and position inputs from the sequence\n",
    "    words = list(chain(*sequence))                          # word tokens\n",
    "    \n",
    "    ''' fixed i -> i+1 to make it consistent with the labels in `sequence`'''\n",
    "    segments = [speaker2 if (i+1) % 2 else speaker1             # segment tokens\n",
    "                for i, s in enumerate(sequence) for _ in s]\n",
    "    position = list(range(len(words)))                      # position tokens\n",
    "    return words, segments, position, sequence\n",
    "\n",
    "words, segments, position, sequence = build_inputs(persona, history, reply)\n",
    "\n",
    "# >>> print(sequence)  # Our inputs looks like this:\n",
    "# [['<bos>', 'i', 'like', 'playing', 'football', '.', 'i', 'am', 'from', 'NYC', '.'],\n",
    "#  ['<speaker1>', 'hello', 'how', 'are', 'you', '?'],\n",
    "#  ['<speaker2>', 'i', 'am', 'fine', 'thanks', '.'],\n",
    "#  ['<speaker1>', 'great', 'to', 'hear', '<eos>']]\n",
    "\n"
   ]
  },
  {
   "cell_type": "code",
   "execution_count": 76,
   "metadata": {},
   "outputs": [],
   "source": [
    "# Tokenize words and segments embeddings:\n",
    "words = tokenizer.convert_tokens_to_ids(words)\n",
    "segments = tokenizer.convert_tokens_to_ids(segments)\n",
    "\n",
    "# don't use tokenizer.encode(x) because the sequence is already tokenized. \n",
    "# If given as a string, use tokenizer.encode(x), which is equivalent to tokenizer.convert_tokens_to_ids(tokenizer.tokenize(x))"
   ]
  },
  {
   "cell_type": "code",
   "execution_count": 77,
   "metadata": {},
   "outputs": [],
   "source": [
    "import torch"
   ]
  },
  {
   "cell_type": "code",
   "execution_count": 78,
   "metadata": {},
   "outputs": [],
   "source": [
    "distractor = [\"sorry\", \"to\", \"hear\", \"that\"]\n",
    "\n",
    "words_distractor, segments_distractor, _, _ = build_inputs(persona, history, distractor)\n",
    "words_distractor, segments_distractor = tokenizer.convert_tokens_to_ids(words_distractor),  tokenizer.convert_tokens_to_ids(segments_distractor)"
   ]
  },
  {
   "cell_type": "code",
   "execution_count": 79,
   "metadata": {},
   "outputs": [],
   "source": [
    "# prepare language modeling targets: keep only the reply segment, -1 on the rest \n",
    "lm_targets = [-1] * sum(len(s) for s in sequence[:-1]) + [-1] + tokenizer.convert_tokens_to_ids(sequence[-1][1:])\n",
    "lm_distractor = [-1]*len(words_distractor)"
   ]
  },
  {
   "cell_type": "code",
   "execution_count": 80,
   "metadata": {},
   "outputs": [],
   "source": [
    "last_token_idx = len(words) - 1\n",
    "last_token_distractor = len(words_distractor) -1\n",
    "\n",
    "# pad reply and distractor inputs and targets to same length \n",
    "padding_length = max(len(words), len(words_distractor))\n",
    "\n",
    "def pad(x, padding, padding_length): \n",
    "    return x + [padding] * (padding_length - len(x))\n",
    "\n",
    "words, words_distractor, segments, segments_distractor = [pad(x, tokenizer.convert_tokens_to_ids('<pad>'), padding_length) for x in (words, words_distractor, segments, segments_distractor)]\n",
    "\n",
    "assert len(words) == len(words_distractor)"
   ]
  },
  {
   "cell_type": "code",
   "execution_count": 81,
   "metadata": {},
   "outputs": [],
   "source": [
    "lm_targets, lm_distractor = [pad(x, -1, padding_length) for x in (lm_targets, lm_distractor)]"
   ]
  },
  {
   "cell_type": "code",
   "execution_count": 82,
   "metadata": {},
   "outputs": [],
   "source": [
    "input_ids = torch.tensor([[words, words_distractor]], dtype = torch.long)"
   ]
  },
  {
   "cell_type": "code",
   "execution_count": 83,
   "metadata": {},
   "outputs": [
    {
     "data": {
      "text/plain": [
       "torch.Size([1, 2, 29])"
      ]
     },
     "execution_count": 83,
     "metadata": {},
     "output_type": "execute_result"
    }
   ],
   "source": [
    "input_ids.size()"
   ]
  },
  {
   "cell_type": "code",
   "execution_count": 88,
   "metadata": {},
   "outputs": [],
   "source": [
    "token_type_ids = torch.tensor([[segments, segments_distractor]], dtype=torch.long)\n",
    "mc_token_ids = torch.tensor([[last_token_idx, last_token_distractor]])\n",
    "\n",
    "lm_labels = torch.tensor([[lm_targets, lm_distractor]], dtype=torch.long)\n",
    "mc_labels = torch.tensor([0], dtype=torch.long) # first one is the gold label. Index of first one is 0 "
   ]
  },
  {
   "cell_type": "code",
   "execution_count": 117,
   "metadata": {},
   "outputs": [],
   "source": [
    "# need to change it to new loss return format (comes in tuples, with loss and the prediction logits)\n",
    "lm_loss, mc_loss, lm_predict, mc_predict = model(input_ids, mc_token_ids, lm_labels, mc_labels, token_type_ids) \n",
    "\n",
    "lm_coef = 2.0 \n",
    "mc_coef = 1.0 \n",
    "total_loss = lm_loss*lm_coef + mc_loss*mc_coef"
   ]
  },
  {
   "cell_type": "code",
   "execution_count": 119,
   "metadata": {},
   "outputs": [],
   "source": [
    "import numpy as np "
   ]
  },
  {
   "cell_type": "code",
   "execution_count": 97,
   "metadata": {},
   "outputs": [
    {
     "data": {
      "text/plain": [
       "tensor(19.2084, grad_fn=<AddBackward0>)"
      ]
     },
     "execution_count": 97,
     "metadata": {},
     "output_type": "execute_result"
    }
   ],
   "source": [
    "total_loss"
   ]
  },
  {
   "cell_type": "markdown",
   "metadata": {},
   "source": [
    "# Training on entire dataset (ConvAI)\n",
    "\n",
    "Original code referenced: [github repo](https://github.com/huggingface/transfer-learning-conv-ai/blob/master/train.py)"
   ]
  },
  {
   "cell_type": "code",
   "execution_count": 98,
   "metadata": {},
   "outputs": [],
   "source": [
    "import json\n",
    "from pytorch_transformers import cached_path"
   ]
  },
  {
   "cell_type": "code",
   "execution_count": 99,
   "metadata": {},
   "outputs": [],
   "source": [
    "url = \"s3://datasets.huggingface.co/personachat/personachat_self_original.json\""
   ]
  },
  {
   "cell_type": "code",
   "execution_count": 123,
   "metadata": {},
   "outputs": [
    {
     "name": "stdout",
     "output_type": "stream",
     "text": [
      "/Users/justincho/.cache/torch/pytorch_transformers/738e4d3f264f46d2c9161a43c7389d03a34fb336ae842a4337014123c68e744e.bb42905dd6e1098e87c24845469ee12018cfd142e10fcc50f97b28e002a9ac02\n"
     ]
    }
   ],
   "source": [
    "personachat_file = cached_path(url)\n",
    "with open(personachat_file, \"r\", encoding=\"utf-8\") as f: \n",
    "    dataset = json.load(f)\n",
    "    \n",
    "print(personachat_file)"
   ]
  },
  {
   "cell_type": "code",
   "execution_count": 113,
   "metadata": {},
   "outputs": [],
   "source": [
    "def tokenize_dataset(obj): \n",
    "    if isinstance(obj, str): \n",
    "        return tokenizer.convert_tokens_to_ids(tokenizer.tokenize(obj))\n",
    "    if isinstance(obj, dict): \n",
    "        return {n: tokenize_dataset(o) for n, o in obj.items()}\n",
    "    return list(tokenize_dataset(o) for o in obj)\n",
    "\n",
    "dataset = tokenize_dataset(dataset)"
   ]
  },
  {
   "cell_type": "markdown",
   "metadata": {},
   "source": [
    "# End of code content shown in Medium post "
   ]
  },
  {
   "cell_type": "markdown",
   "metadata": {},
   "source": [
    "# Actual training code and interaction code is in forked repo "
   ]
  },
  {
   "cell_type": "code",
   "execution_count": null,
   "metadata": {},
   "outputs": [],
   "source": []
  }
 ],
 "metadata": {
  "kernelspec": {
   "display_name": "Python 3",
   "language": "python",
   "name": "python3"
  },
  "language_info": {
   "codemirror_mode": {
    "name": "ipython",
    "version": 3
   },
   "file_extension": ".py",
   "mimetype": "text/x-python",
   "name": "python",
   "nbconvert_exporter": "python",
   "pygments_lexer": "ipython3",
   "version": "3.6.5"
  }
 },
 "nbformat": 4,
 "nbformat_minor": 2
}
